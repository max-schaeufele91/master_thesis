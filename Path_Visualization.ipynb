{
 "cells": [
  {
   "cell_type": "code",
   "execution_count": 1,
   "metadata": {
    "collapsed": true
   },
   "outputs": [
    {
     "name": "stdout",
     "output_type": "stream",
     "text": [
      "Exception reporting mode: Verbose\n"
     ]
    },
    {
     "name": "stderr",
     "output_type": "stream",
     "text": [
      "/home/max/miniconda3/envs/thesis/lib/python3.7/site-packages/tqdm/std.py:697: FutureWarning: The Panel class is removed from pandas. Accessing it from the top-level namespace will also be removed in the next version\n",
      "  from pandas import Panel\n"
     ]
    }
   ],
   "source": [
    "%xmode Verbose\n",
    "%matplotlib inline\n",
    "\n",
    "import geopandas as gpd\n",
    "import matplotlib.pyplot as plt\n",
    "import pandas as pd\n",
    "import seaborn as sns\n",
    "from shapely.geometry import LineString\n",
    "from tqdm.notebook import tqdm\n",
    "tqdm.pandas()\n",
    "\n",
    "import TRACLUS_JSON_Prep as tjp\n",
    "\n",
    "import os\n",
    "pickle_path = 'Variables/'\n",
    "\n",
    "if not os.path.exists(pickle_path):\n",
    "    os.makedirs(pickle_path)"
   ]
  },
  {
   "cell_type": "code",
   "execution_count": 2,
   "outputs": [],
   "source": [
    "path_pollen_file = 'Data/resultsfile_pollen.csv'\n",
    "path_no_pollen_file = 'Data/resultsfile_no_pollen.csv'\n",
    "\n",
    "data_pollen = pd.read_csv(path_pollen_file, index_col='path_id', parse_dates=['first_timestamp', 'last_timestamp'])\n",
    "data_no_pollen = pd.read_csv(path_no_pollen_file, index_col='path_id', parse_dates=['first_timestamp', 'last_timestamp'])"
   ],
   "metadata": {
    "collapsed": false,
    "pycharm": {
     "name": "#%%\n"
    }
   }
  },
  {
   "cell_type": "code",
   "execution_count": 3,
   "outputs": [
    {
     "data": {
      "text/plain": "                                                   positions  \\\npath_id                                                        \n252107318  {\"(12813,10472)\",\"(13249,10937)\",\"(13752,11580...   \n252212481  {\"(11408,101240)\",\"(11339,100731)\",\"(11133,990...   \n252215191  {\"(13850,104441)\",\"(13850,104441)\",\"(13850,104...   \n252214249  {\"(13435,105192)\",\"(13586,104709)\",\"(13993,103...   \n252215566  {\"(126544,104227)\",\"(126424,103669)\",\"(126516,...   \n\n              first_timestamp      last_timestamp  \\\npath_id                                             \n252107318 2019-05-12 08:28:53 2019-05-12 08:28:53   \n252212481 2019-05-12 08:47:45 2019-05-12 08:47:45   \n252215191 2019-05-12 08:47:45 2019-05-12 08:47:45   \n252214249 2019-05-12 08:47:45 2019-05-12 08:47:45   \n252215566 2019-05-12 08:47:45 2019-05-12 08:47:45   \n\n                                          first_snippet_link  \\\npath_id                                                        \n252107318  gs://eurofins-study-05-2018/24_6/2019-05-12T08...   \n252212481  gs://eurofins-study-05-2018/24_12/2019-05-12T0...   \n252215191  gs://eurofins-study-05-2018/24_12/2019-05-12T0...   \n252214249  gs://eurofins-study-05-2018/24_12/2019-05-12T0...   \n252215566  gs://eurofins-study-05-2018/24_12/2019-05-12T0...   \n\n                                           last_snippet_link  \npath_id                                                       \n252107318  gs://eurofins-study-05-2018/24_6/2019-05-12T08...  \n252212481  gs://eurofins-study-05-2018/24_12/2019-05-12T0...  \n252215191  gs://eurofins-study-05-2018/24_12/2019-05-12T0...  \n252214249  gs://eurofins-study-05-2018/24_12/2019-05-12T0...  \n252215566  gs://eurofins-study-05-2018/24_12/2019-05-12T0...  ",
      "text/html": "<div>\n<style scoped>\n    .dataframe tbody tr th:only-of-type {\n        vertical-align: middle;\n    }\n\n    .dataframe tbody tr th {\n        vertical-align: top;\n    }\n\n    .dataframe thead th {\n        text-align: right;\n    }\n</style>\n<table border=\"1\" class=\"dataframe\">\n  <thead>\n    <tr style=\"text-align: right;\">\n      <th></th>\n      <th>positions</th>\n      <th>first_timestamp</th>\n      <th>last_timestamp</th>\n      <th>first_snippet_link</th>\n      <th>last_snippet_link</th>\n    </tr>\n    <tr>\n      <th>path_id</th>\n      <th></th>\n      <th></th>\n      <th></th>\n      <th></th>\n      <th></th>\n    </tr>\n  </thead>\n  <tbody>\n    <tr>\n      <th>252107318</th>\n      <td>{\"(12813,10472)\",\"(13249,10937)\",\"(13752,11580...</td>\n      <td>2019-05-12 08:28:53</td>\n      <td>2019-05-12 08:28:53</td>\n      <td>gs://eurofins-study-05-2018/24_6/2019-05-12T08...</td>\n      <td>gs://eurofins-study-05-2018/24_6/2019-05-12T08...</td>\n    </tr>\n    <tr>\n      <th>252212481</th>\n      <td>{\"(11408,101240)\",\"(11339,100731)\",\"(11133,990...</td>\n      <td>2019-05-12 08:47:45</td>\n      <td>2019-05-12 08:47:45</td>\n      <td>gs://eurofins-study-05-2018/24_12/2019-05-12T0...</td>\n      <td>gs://eurofins-study-05-2018/24_12/2019-05-12T0...</td>\n    </tr>\n    <tr>\n      <th>252215191</th>\n      <td>{\"(13850,104441)\",\"(13850,104441)\",\"(13850,104...</td>\n      <td>2019-05-12 08:47:45</td>\n      <td>2019-05-12 08:47:45</td>\n      <td>gs://eurofins-study-05-2018/24_12/2019-05-12T0...</td>\n      <td>gs://eurofins-study-05-2018/24_12/2019-05-12T0...</td>\n    </tr>\n    <tr>\n      <th>252214249</th>\n      <td>{\"(13435,105192)\",\"(13586,104709)\",\"(13993,103...</td>\n      <td>2019-05-12 08:47:45</td>\n      <td>2019-05-12 08:47:45</td>\n      <td>gs://eurofins-study-05-2018/24_12/2019-05-12T0...</td>\n      <td>gs://eurofins-study-05-2018/24_12/2019-05-12T0...</td>\n    </tr>\n    <tr>\n      <th>252215566</th>\n      <td>{\"(126544,104227)\",\"(126424,103669)\",\"(126516,...</td>\n      <td>2019-05-12 08:47:45</td>\n      <td>2019-05-12 08:47:45</td>\n      <td>gs://eurofins-study-05-2018/24_12/2019-05-12T0...</td>\n      <td>gs://eurofins-study-05-2018/24_12/2019-05-12T0...</td>\n    </tr>\n  </tbody>\n</table>\n</div>"
     },
     "execution_count": 3,
     "metadata": {},
     "output_type": "execute_result"
    }
   ],
   "source": [
    "data_no_pollen.head()"
   ],
   "metadata": {
    "collapsed": false,
    "pycharm": {
     "name": "#%%\n"
    }
   }
  },
  {
   "cell_type": "raw",
   "source": [
    "\n",
    "time_diff_no_pollen = data_no_pollen.first_timestamp - data_no_pollen.last_timestamp\n",
    "time_diff_no_pollen.sum()\n"
   ],
   "metadata": {
    "collapsed": false,
    "pycharm": {
     "name": "#%% raw\n"
    }
   }
  },
  {
   "cell_type": "code",
   "execution_count": 4,
   "outputs": [
    {
     "name": "stdout",
     "output_type": "stream",
     "text": [
      "Length Pollen: 100854 | Length NO Pollen: 1000000\n",
      "++dropna++ Length Pollen: 100853 | Length NO Pollen: 1000000\n"
     ]
    }
   ],
   "source": [
    "print(\"Length Pollen: {} | Length NO Pollen: {}\".format(data_pollen.shape[0], data_no_pollen.shape[0]))\n",
    "\n",
    "data_pollen.dropna(inplace=True)\n",
    "data_no_pollen.dropna(inplace=True)\n",
    "\n",
    "print(\"++dropna++ Length Pollen: {} | Length NO Pollen: {}\".format(data_pollen.shape[0], data_no_pollen.shape[0]))"
   ],
   "metadata": {
    "collapsed": false,
    "pycharm": {
     "name": "#%%\n"
    }
   }
  },
  {
   "cell_type": "raw",
   "source": [
    "\n",
    "print(data_pollen.count())\n",
    "missing_pollen_values = data_pollen[pd.isna(data_pollen.first_timestamp)]\n",
    "missing_pollen_values\n"
   ],
   "metadata": {
    "collapsed": false,
    "pycharm": {
     "name": "#%% raw\n"
    }
   }
  },
  {
   "cell_type": "code",
   "execution_count": 5,
   "outputs": [
    {
     "name": "stdout",
     "output_type": "stream",
     "text": [
      "Length Pollen: 100853 | Length NO Pollen: 1000000\n",
      "++drop_duplicate++ Length Pollen: 100852 | Length NO Pollen: 676766\n"
     ]
    }
   ],
   "source": [
    "print(\"Length Pollen: {} | Length NO Pollen: {}\".format(data_pollen.shape[0], data_no_pollen.shape[0]))\n",
    "\n",
    "data_pollen.drop_duplicates(subset=['positions'], inplace=True)\n",
    "data_no_pollen.drop_duplicates(subset=['positions'], inplace=True)\n",
    "\n",
    "print(\"++drop_duplicate++ Length Pollen: {} | Length NO Pollen: {}\".format(data_pollen.shape[0], data_no_pollen.shape[0]))"
   ],
   "metadata": {
    "collapsed": false,
    "pycharm": {
     "name": "#%%\n"
    }
   }
  },
  {
   "cell_type": "code",
   "execution_count": 6,
   "outputs": [
    {
     "name": "stdout",
     "output_type": "stream",
     "text": [
      "Length Pollen: 100852 | Length NO Pollen: 676766\n",
      "++drop++ Length Pollen: 100852 | Length NO Pollen: 575914\n"
     ]
    }
   ],
   "source": [
    "print(\"Length Pollen: {} | Length NO Pollen: {}\".format(data_pollen.shape[0], data_no_pollen.shape[0]))\n",
    "\n",
    "# Remove data_pollen from data_no_pollen\n",
    "data_no_pollen.drop(labels=data_pollen.index, inplace=True)\n",
    "\n",
    "print(\"++drop++ Length Pollen: {} | Length NO Pollen: {}\".format(data_pollen.shape[0], data_no_pollen.shape[0]))"
   ],
   "metadata": {
    "collapsed": false,
    "pycharm": {
     "name": "#%%\n"
    }
   }
  },
  {
   "cell_type": "code",
   "execution_count": 7,
   "outputs": [],
   "source": [
    "data_pollen.to_pickle(pickle_path + 'data_pollen.pkl')\n",
    "data_no_pollen.to_pickle(pickle_path + 'data_no_pollen.pkl')\n"
   ],
   "metadata": {
    "collapsed": false,
    "pycharm": {
     "name": "#%%\n"
    }
   }
  },
  {
   "cell_type": "code",
   "execution_count": 8,
   "outputs": [],
   "source": [
    "def position_str_to_list(row: pd.Series):\n",
    "    row['positions'] = row['positions'].replace('{', '').replace('}', '').replace('\\\"', '')\n",
    "    row['positions'] = LineString(eval(row['positions']))\n",
    "    return row"
   ],
   "metadata": {
    "collapsed": false,
    "pycharm": {
     "name": "#%%\n"
    }
   }
  },
  {
   "cell_type": "code",
   "execution_count": 9,
   "outputs": [
    {
     "data": {
      "text/plain": "HBox(children=(HTML(value=''), FloatProgress(value=0.0, max=100852.0), HTML(value='')))",
      "application/vnd.jupyter.widget-view+json": {
       "version_major": 2,
       "version_minor": 0,
       "model_id": "3e72e0c3b98a42d1b514af628453ae20"
      }
     },
     "metadata": {},
     "output_type": "display_data"
    },
    {
     "name": "stdout",
     "output_type": "stream",
     "text": [
      "\n"
     ]
    }
   ],
   "source": [
    "tmp_data_pollen = data_pollen.progress_apply(position_str_to_list, axis='columns')"
   ],
   "metadata": {
    "collapsed": false,
    "pycharm": {
     "name": "#%%\n"
    }
   }
  },
  {
   "cell_type": "code",
   "execution_count": 10,
   "outputs": [
    {
     "data": {
      "text/plain": "                    timestamp  \\\npath_id                         \n252107318 2019-05-12 08:28:53   \n252212481 2019-05-12 08:47:45   \n252215191 2019-05-12 08:47:45   \n252214249 2019-05-12 08:47:45   \n252215566 2019-05-12 08:47:45   \n\n                                                    geometry  \npath_id                                                       \n252107318  LINESTRING (12813.000 10472.000, 13249.000 109...  \n252212481  LINESTRING (11408.000 101240.000, 11339.000 10...  \n252215191  LINESTRING (13850.000 104441.000, 13850.000 10...  \n252214249  LINESTRING (13435.000 105192.000, 13586.000 10...  \n252215566  LINESTRING (126544.000 104227.000, 126424.000 ...  ",
      "text/html": "<div>\n<style scoped>\n    .dataframe tbody tr th:only-of-type {\n        vertical-align: middle;\n    }\n\n    .dataframe tbody tr th {\n        vertical-align: top;\n    }\n\n    .dataframe thead th {\n        text-align: right;\n    }\n</style>\n<table border=\"1\" class=\"dataframe\">\n  <thead>\n    <tr style=\"text-align: right;\">\n      <th></th>\n      <th>timestamp</th>\n      <th>geometry</th>\n    </tr>\n    <tr>\n      <th>path_id</th>\n      <th></th>\n      <th></th>\n    </tr>\n  </thead>\n  <tbody>\n    <tr>\n      <th>252107318</th>\n      <td>2019-05-12 08:28:53</td>\n      <td>LINESTRING (12813.000 10472.000, 13249.000 109...</td>\n    </tr>\n    <tr>\n      <th>252212481</th>\n      <td>2019-05-12 08:47:45</td>\n      <td>LINESTRING (11408.000 101240.000, 11339.000 10...</td>\n    </tr>\n    <tr>\n      <th>252215191</th>\n      <td>2019-05-12 08:47:45</td>\n      <td>LINESTRING (13850.000 104441.000, 13850.000 10...</td>\n    </tr>\n    <tr>\n      <th>252214249</th>\n      <td>2019-05-12 08:47:45</td>\n      <td>LINESTRING (13435.000 105192.000, 13586.000 10...</td>\n    </tr>\n    <tr>\n      <th>252215566</th>\n      <td>2019-05-12 08:47:45</td>\n      <td>LINESTRING (126544.000 104227.000, 126424.000 ...</td>\n    </tr>\n  </tbody>\n</table>\n</div>"
     },
     "execution_count": 10,
     "metadata": {},
     "output_type": "execute_result"
    }
   ],
   "source": [
    "geo_data_pollen = gpd.GeoDataFrame({'timestamp': tmp_data_pollen['first_timestamp']},\n",
    "                                   geometry=tmp_data_pollen['positions'],\n",
    "                                   index=data_pollen.index)\n",
    "geo_data_pollen.head()"
   ],
   "metadata": {
    "collapsed": false,
    "pycharm": {
     "name": "#%%\n"
    }
   }
  },
  {
   "cell_type": "code",
   "execution_count": 11,
   "outputs": [
    {
     "data": {
      "text/plain": "HBox(children=(HTML(value=''), FloatProgress(value=0.0, max=575914.0), HTML(value='')))",
      "application/vnd.jupyter.widget-view+json": {
       "version_major": 2,
       "version_minor": 0,
       "model_id": "eda839281b814ad3bbd3fcbb44280c7d"
      }
     },
     "metadata": {},
     "output_type": "display_data"
    },
    {
     "name": "stdout",
     "output_type": "stream",
     "text": [
      "\n"
     ]
    }
   ],
   "source": [
    "tmp_data_no_pollen = data_no_pollen.progress_apply(position_str_to_list, axis='columns')"
   ],
   "metadata": {
    "collapsed": false,
    "pycharm": {
     "name": "#%%\n"
    }
   }
  },
  {
   "cell_type": "code",
   "execution_count": 12,
   "outputs": [
    {
     "data": {
      "text/plain": "                    timestamp  \\\npath_id                         \n256566320 2019-05-15 11:06:39   \n256611902 2019-05-15 11:06:39   \n256611953 2019-05-15 11:06:39   \n256612000 2019-05-15 11:06:39   \n256612023 2019-05-15 11:06:39   \n\n                                                    geometry  \npath_id                                                       \n256566320  LINESTRING (82995.000 105192.000, 85242.000 10...  \n256611902  LINESTRING (49459.000 104951.000, 49317.000 10...  \n256611953  LINESTRING (34664.000 103883.000, 35115.000 10...  \n256612000  LINESTRING (134426.000 103905.000, 134426.000 ...  \n256612023  LINESTRING (81576.000 12573.000, 81280.000 145...  ",
      "text/html": "<div>\n<style scoped>\n    .dataframe tbody tr th:only-of-type {\n        vertical-align: middle;\n    }\n\n    .dataframe tbody tr th {\n        vertical-align: top;\n    }\n\n    .dataframe thead th {\n        text-align: right;\n    }\n</style>\n<table border=\"1\" class=\"dataframe\">\n  <thead>\n    <tr style=\"text-align: right;\">\n      <th></th>\n      <th>timestamp</th>\n      <th>geometry</th>\n    </tr>\n    <tr>\n      <th>path_id</th>\n      <th></th>\n      <th></th>\n    </tr>\n  </thead>\n  <tbody>\n    <tr>\n      <th>256566320</th>\n      <td>2019-05-15 11:06:39</td>\n      <td>LINESTRING (82995.000 105192.000, 85242.000 10...</td>\n    </tr>\n    <tr>\n      <th>256611902</th>\n      <td>2019-05-15 11:06:39</td>\n      <td>LINESTRING (49459.000 104951.000, 49317.000 10...</td>\n    </tr>\n    <tr>\n      <th>256611953</th>\n      <td>2019-05-15 11:06:39</td>\n      <td>LINESTRING (34664.000 103883.000, 35115.000 10...</td>\n    </tr>\n    <tr>\n      <th>256612000</th>\n      <td>2019-05-15 11:06:39</td>\n      <td>LINESTRING (134426.000 103905.000, 134426.000 ...</td>\n    </tr>\n    <tr>\n      <th>256612023</th>\n      <td>2019-05-15 11:06:39</td>\n      <td>LINESTRING (81576.000 12573.000, 81280.000 145...</td>\n    </tr>\n  </tbody>\n</table>\n</div>"
     },
     "execution_count": 12,
     "metadata": {},
     "output_type": "execute_result"
    }
   ],
   "source": [
    "geo_data_no_pollen = gpd.GeoDataFrame({'timestamp': tmp_data_no_pollen['first_timestamp']},\n",
    "                                      geometry=tmp_data_no_pollen['positions'],\n",
    "                                      index=data_no_pollen.index)\n",
    "\n",
    "geo_data_no_pollen.head()"
   ],
   "metadata": {
    "collapsed": false,
    "pycharm": {
     "name": "#%%\n"
    }
   }
  },
  {
   "cell_type": "code",
   "execution_count": 13,
   "outputs": [],
   "source": [
    "geo_data_pollen.to_pickle(pickle_path + 'geo_data_pollen.pkl')\n",
    "geo_data_no_pollen.to_pickle(pickle_path + 'geo_data_no_pollen.pkl')"
   ],
   "metadata": {
    "collapsed": false,
    "pycharm": {
     "name": "#%%\n"
    }
   }
  },
  {
   "cell_type": "code",
   "source": [
    "plt.figure(figsize=(8, 8))\n",
    "\n",
    "# So that the background is white\n",
    "#sns.set_style('white')\n",
    "sns.set_style('darkgrid')\n",
    "\n",
    "sns.histplot(data=geo_data_pollen.length, stat='probability', color='blue', bins=100)\n",
    "sns.histplot(data=geo_data_no_pollen.length, stat='probability', color='green', bins=100)\n",
    "\n",
    "#sns.histplot(data=geo_data_pollen.length, stat='probability', color='blue', binwidth=3)\n",
    "#sns.histplot(data=geo_data_no_pollen.length, stat='probability', color='green', binwidth=3)"
   ],
   "metadata": {
    "collapsed": false,
    "pycharm": {
     "name": "#%%\n"
    }
   },
   "execution_count": 4,
   "outputs": [
    {
     "data": {
      "text/plain": "<AxesSubplot:ylabel='Probability'>"
     },
     "execution_count": 4,
     "metadata": {},
     "output_type": "execute_result"
    },
    {
     "data": {
      "text/plain": "<Figure size 576x576 with 1 Axes>",
      "image/png": "[encoded data removed]"
     },
     "metadata": {},
     "output_type": "display_data"
    }
   ]
  },
  {
   "cell_type": "code",
   "execution_count": 15,
   "outputs": [
    {
     "name": "stdout",
     "output_type": "stream",
     "text": [
      "geo_data_pollen.shape:  (100852, 2)  geo_data_no_pollen.shape:  (575914, 2)\n"
     ]
    }
   ],
   "source": [
    "print('geo_data_pollen.shape: ', geo_data_pollen.shape,\n",
    "      ' geo_data_no_pollen.shape: ', geo_data_no_pollen.shape)"
   ],
   "metadata": {
    "collapsed": false,
    "pycharm": {
     "name": "#%%\n"
    }
   }
  },
  {
   "cell_type": "code",
   "execution_count": 16,
   "outputs": [
    {
     "data": {
      "text/plain": "count    1.008520e+05\nmean     1.367963e+05\nstd      6.753415e+04\nmin      1.400527e+03\n25%      1.026137e+05\n50%      1.166057e+05\n75%      1.488942e+05\nmax      1.331922e+06\ndtype: float64"
     },
     "execution_count": 16,
     "metadata": {},
     "output_type": "execute_result"
    }
   ],
   "source": [
    "geo_data_pollen.length.describe()"
   ],
   "metadata": {
    "collapsed": false,
    "pycharm": {
     "name": "#%%\n"
    }
   }
  },
  {
   "cell_type": "code",
   "execution_count": 17,
   "outputs": [
    {
     "data": {
      "text/plain": "count    5.759140e+05\nmean     1.429178e+05\nstd      8.426176e+04\nmin      0.000000e+00\n25%      1.014759e+05\n50%      1.211838e+05\n75%      1.623049e+05\nmax      2.608381e+06\ndtype: float64"
     },
     "execution_count": 17,
     "metadata": {},
     "output_type": "execute_result"
    }
   ],
   "source": [
    "geo_data_no_pollen.length.describe()"
   ],
   "metadata": {
    "collapsed": false,
    "pycharm": {
     "name": "#%%\n"
    }
   }
  },
  {
   "cell_type": "code",
   "execution_count": 18,
   "outputs": [
    {
     "data": {
      "text/plain": "                    timestamp  \\\npath_id                         \n252107318 2019-05-12 08:28:53   \n252212481 2019-05-12 08:47:45   \n252215191 2019-05-12 08:47:45   \n252214249 2019-05-12 08:47:45   \n252215566 2019-05-12 08:47:45   \n254549097 2019-05-13 06:20:23   \n254549094 2019-05-13 06:20:23   \n254549793 2019-05-13 06:20:23   \n253333948 2019-05-13 06:41:42   \n253334787 2019-05-13 06:41:42   \n254422554 2019-05-14 06:00:57   \n256357670 2019-05-14 06:27:26   \n256356955 2019-05-14 06:27:26   \n256356942 2019-05-14 06:27:26   \n256356934 2019-05-14 06:27:26   \n262457033 2019-05-15 06:00:57   \n256188063 2019-05-15 06:35:45   \n255571563 2019-05-15 06:47:13   \n255571888 2019-05-15 06:47:13   \n256077790 2019-05-15 06:47:29   \n\n                                                    geometry  \npath_id                                                       \n252107318  LINESTRING (12813.000 10472.000, 13249.000 109...  \n252212481  LINESTRING (11408.000 101240.000, 11339.000 10...  \n252215191  LINESTRING (13850.000 104441.000, 13850.000 10...  \n252214249  LINESTRING (13435.000 105192.000, 13586.000 10...  \n252215566  LINESTRING (126544.000 104227.000, 126424.000 ...  \n254549097  LINESTRING (10535.000 12277.000, 10857.000 127...  \n254549094  LINESTRING (12063.000 12063.000, 12325.000 125...  \n254549793  LINESTRING (11661.000 102082.000, 11580.000 10...  \n253333948  LINESTRING (118150.000 101885.000, 119186.000 ...  \n253334787  LINESTRING (140739.000 102173.000, 140417.000 ...  \n254422554  LINESTRING (29480.000 22633.000, 29480.000 226...  \n256357670  LINESTRING (135560.000 102516.000, 135592.000 ...  \n256356955  LINESTRING (109761.000 103443.000, 110500.000 ...  \n256356942  LINESTRING (68278.000 12179.000, 68519.000 126...  \n256356934  LINESTRING (19273.000 103717.000, 19354.000 10...  \n262457033  LINESTRING (125941.000 102947.000, 125870.000 ...  \n256188063  LINESTRING (124312.000 12289.000, 124493.000 1...  \n255571563  LINESTRING (13510.000 98195.000, 13889.000 972...  \n255571888  LINESTRING (137076.000 103206.000, 137484.000 ...  \n256077790  LINESTRING (140417.000 85408.000, 140771.000 8...  ",
      "text/html": "<div>\n<style scoped>\n    .dataframe tbody tr th:only-of-type {\n        vertical-align: middle;\n    }\n\n    .dataframe tbody tr th {\n        vertical-align: top;\n    }\n\n    .dataframe thead th {\n        text-align: right;\n    }\n</style>\n<table border=\"1\" class=\"dataframe\">\n  <thead>\n    <tr style=\"text-align: right;\">\n      <th></th>\n      <th>timestamp</th>\n      <th>geometry</th>\n    </tr>\n    <tr>\n      <th>path_id</th>\n      <th></th>\n      <th></th>\n    </tr>\n  </thead>\n  <tbody>\n    <tr>\n      <th>252107318</th>\n      <td>2019-05-12 08:28:53</td>\n      <td>LINESTRING (12813.000 10472.000, 13249.000 109...</td>\n    </tr>\n    <tr>\n      <th>252212481</th>\n      <td>2019-05-12 08:47:45</td>\n      <td>LINESTRING (11408.000 101240.000, 11339.000 10...</td>\n    </tr>\n    <tr>\n      <th>252215191</th>\n      <td>2019-05-12 08:47:45</td>\n      <td>LINESTRING (13850.000 104441.000, 13850.000 10...</td>\n    </tr>\n    <tr>\n      <th>252214249</th>\n      <td>2019-05-12 08:47:45</td>\n      <td>LINESTRING (13435.000 105192.000, 13586.000 10...</td>\n    </tr>\n    <tr>\n      <th>252215566</th>\n      <td>2019-05-12 08:47:45</td>\n      <td>LINESTRING (126544.000 104227.000, 126424.000 ...</td>\n    </tr>\n    <tr>\n      <th>254549097</th>\n      <td>2019-05-13 06:20:23</td>\n      <td>LINESTRING (10535.000 12277.000, 10857.000 127...</td>\n    </tr>\n    <tr>\n      <th>254549094</th>\n      <td>2019-05-13 06:20:23</td>\n      <td>LINESTRING (12063.000 12063.000, 12325.000 125...</td>\n    </tr>\n    <tr>\n      <th>254549793</th>\n      <td>2019-05-13 06:20:23</td>\n      <td>LINESTRING (11661.000 102082.000, 11580.000 10...</td>\n    </tr>\n    <tr>\n      <th>253333948</th>\n      <td>2019-05-13 06:41:42</td>\n      <td>LINESTRING (118150.000 101885.000, 119186.000 ...</td>\n    </tr>\n    <tr>\n      <th>253334787</th>\n      <td>2019-05-13 06:41:42</td>\n      <td>LINESTRING (140739.000 102173.000, 140417.000 ...</td>\n    </tr>\n    <tr>\n      <th>254422554</th>\n      <td>2019-05-14 06:00:57</td>\n      <td>LINESTRING (29480.000 22633.000, 29480.000 226...</td>\n    </tr>\n    <tr>\n      <th>256357670</th>\n      <td>2019-05-14 06:27:26</td>\n      <td>LINESTRING (135560.000 102516.000, 135592.000 ...</td>\n    </tr>\n    <tr>\n      <th>256356955</th>\n      <td>2019-05-14 06:27:26</td>\n      <td>LINESTRING (109761.000 103443.000, 110500.000 ...</td>\n    </tr>\n    <tr>\n      <th>256356942</th>\n      <td>2019-05-14 06:27:26</td>\n      <td>LINESTRING (68278.000 12179.000, 68519.000 126...</td>\n    </tr>\n    <tr>\n      <th>256356934</th>\n      <td>2019-05-14 06:27:26</td>\n      <td>LINESTRING (19273.000 103717.000, 19354.000 10...</td>\n    </tr>\n    <tr>\n      <th>262457033</th>\n      <td>2019-05-15 06:00:57</td>\n      <td>LINESTRING (125941.000 102947.000, 125870.000 ...</td>\n    </tr>\n    <tr>\n      <th>256188063</th>\n      <td>2019-05-15 06:35:45</td>\n      <td>LINESTRING (124312.000 12289.000, 124493.000 1...</td>\n    </tr>\n    <tr>\n      <th>255571563</th>\n      <td>2019-05-15 06:47:13</td>\n      <td>LINESTRING (13510.000 98195.000, 13889.000 972...</td>\n    </tr>\n    <tr>\n      <th>255571888</th>\n      <td>2019-05-15 06:47:13</td>\n      <td>LINESTRING (137076.000 103206.000, 137484.000 ...</td>\n    </tr>\n    <tr>\n      <th>256077790</th>\n      <td>2019-05-15 06:47:29</td>\n      <td>LINESTRING (140417.000 85408.000, 140771.000 8...</td>\n    </tr>\n  </tbody>\n</table>\n</div>"
     },
     "execution_count": 18,
     "metadata": {},
     "output_type": "execute_result"
    }
   ],
   "source": [
    "geo_data_pollen_length_by_day = geo_data_pollen.groupby(geo_data_pollen['timestamp'].dt.date)\n",
    "geo_data_pollen_length_by_day.head()"
   ],
   "metadata": {
    "collapsed": false,
    "pycharm": {
     "name": "#%%\n"
    }
   }
  },
  {
   "cell_type": "code",
   "execution_count": 19,
   "outputs": [
    {
     "data": {
      "text/plain": "            timestamp  geometry\ntimestamp                      \n2019-05-12      25041     25041\n2019-05-13      39587     39587\n2019-05-14      27520     27520\n2019-05-15       8704      8704",
      "text/html": "<div>\n<style scoped>\n    .dataframe tbody tr th:only-of-type {\n        vertical-align: middle;\n    }\n\n    .dataframe tbody tr th {\n        vertical-align: top;\n    }\n\n    .dataframe thead th {\n        text-align: right;\n    }\n</style>\n<table border=\"1\" class=\"dataframe\">\n  <thead>\n    <tr style=\"text-align: right;\">\n      <th></th>\n      <th>timestamp</th>\n      <th>geometry</th>\n    </tr>\n    <tr>\n      <th>timestamp</th>\n      <th></th>\n      <th></th>\n    </tr>\n  </thead>\n  <tbody>\n    <tr>\n      <th>2019-05-12</th>\n      <td>25041</td>\n      <td>25041</td>\n    </tr>\n    <tr>\n      <th>2019-05-13</th>\n      <td>39587</td>\n      <td>39587</td>\n    </tr>\n    <tr>\n      <th>2019-05-14</th>\n      <td>27520</td>\n      <td>27520</td>\n    </tr>\n    <tr>\n      <th>2019-05-15</th>\n      <td>8704</td>\n      <td>8704</td>\n    </tr>\n  </tbody>\n</table>\n</div>"
     },
     "execution_count": 19,
     "metadata": {},
     "output_type": "execute_result"
    }
   ],
   "source": [
    "geo_data_pollen_length_by_day.count()"
   ],
   "metadata": {
    "collapsed": false,
    "pycharm": {
     "name": "#%%\n"
    }
   }
  },
  {
   "cell_type": "code",
   "execution_count": 20,
   "outputs": [
    {
     "data": {
      "text/plain": "                    timestamp  \\\npath_id                         \n256566320 2019-05-15 11:06:39   \n256611902 2019-05-15 11:06:39   \n256611953 2019-05-15 11:06:39   \n256612000 2019-05-15 11:06:39   \n256612023 2019-05-15 11:06:39   \n...                       ...   \n487840329 2019-07-18 00:04:45   \n486344170 2019-07-18 00:16:30   \n486344178 2019-07-18 00:16:30   \n486344168 2019-07-18 00:16:30   \n489351042 2019-07-18 00:17:23   \n\n                                                    geometry  \npath_id                                                       \n256566320  LINESTRING (82995.000 105192.000, 85242.000 10...  \n256611902  LINESTRING (49459.000 104951.000, 49317.000 10...  \n256611953  LINESTRING (34664.000 103883.000, 35115.000 10...  \n256612000  LINESTRING (134426.000 103905.000, 134426.000 ...  \n256612023  LINESTRING (81576.000 12573.000, 81280.000 145...  \n...                                                      ...  \n487840329  LINESTRING (23912.000 103783.000, 23912.000 10...  \n486344170  LINESTRING (3484.000 75757.000, 3484.000 75757...  \n486344178  LINESTRING (3484.000 75757.000, 3492.000 75987...  \n486344168  LINESTRING (3442.000 75999.000, 3442.000 75999...  \n489351042  LINESTRING (22303.000 103262.000, 22242.000 10...  \n\n[267 rows x 2 columns]",
      "text/html": "<div>\n<style scoped>\n    .dataframe tbody tr th:only-of-type {\n        vertical-align: middle;\n    }\n\n    .dataframe tbody tr th {\n        vertical-align: top;\n    }\n\n    .dataframe thead th {\n        text-align: right;\n    }\n</style>\n<table border=\"1\" class=\"dataframe\">\n  <thead>\n    <tr style=\"text-align: right;\">\n      <th></th>\n      <th>timestamp</th>\n      <th>geometry</th>\n    </tr>\n    <tr>\n      <th>path_id</th>\n      <th></th>\n      <th></th>\n    </tr>\n  </thead>\n  <tbody>\n    <tr>\n      <th>256566320</th>\n      <td>2019-05-15 11:06:39</td>\n      <td>LINESTRING (82995.000 105192.000, 85242.000 10...</td>\n    </tr>\n    <tr>\n      <th>256611902</th>\n      <td>2019-05-15 11:06:39</td>\n      <td>LINESTRING (49459.000 104951.000, 49317.000 10...</td>\n    </tr>\n    <tr>\n      <th>256611953</th>\n      <td>2019-05-15 11:06:39</td>\n      <td>LINESTRING (34664.000 103883.000, 35115.000 10...</td>\n    </tr>\n    <tr>\n      <th>256612000</th>\n      <td>2019-05-15 11:06:39</td>\n      <td>LINESTRING (134426.000 103905.000, 134426.000 ...</td>\n    </tr>\n    <tr>\n      <th>256612023</th>\n      <td>2019-05-15 11:06:39</td>\n      <td>LINESTRING (81576.000 12573.000, 81280.000 145...</td>\n    </tr>\n    <tr>\n      <th>...</th>\n      <td>...</td>\n      <td>...</td>\n    </tr>\n    <tr>\n      <th>487840329</th>\n      <td>2019-07-18 00:04:45</td>\n      <td>LINESTRING (23912.000 103783.000, 23912.000 10...</td>\n    </tr>\n    <tr>\n      <th>486344170</th>\n      <td>2019-07-18 00:16:30</td>\n      <td>LINESTRING (3484.000 75757.000, 3484.000 75757...</td>\n    </tr>\n    <tr>\n      <th>486344178</th>\n      <td>2019-07-18 00:16:30</td>\n      <td>LINESTRING (3484.000 75757.000, 3492.000 75987...</td>\n    </tr>\n    <tr>\n      <th>486344168</th>\n      <td>2019-07-18 00:16:30</td>\n      <td>LINESTRING (3442.000 75999.000, 3442.000 75999...</td>\n    </tr>\n    <tr>\n      <th>489351042</th>\n      <td>2019-07-18 00:17:23</td>\n      <td>LINESTRING (22303.000 103262.000, 22242.000 10...</td>\n    </tr>\n  </tbody>\n</table>\n<p>267 rows × 2 columns</p>\n</div>"
     },
     "execution_count": 20,
     "metadata": {},
     "output_type": "execute_result"
    }
   ],
   "source": [
    "geo_data_no_pollen_length_by_day = geo_data_no_pollen.groupby(geo_data_no_pollen['timestamp'].dt.date)\n",
    "geo_data_no_pollen_length_by_day.head()"
   ],
   "metadata": {
    "collapsed": false,
    "pycharm": {
     "name": "#%%\n"
    }
   }
  },
  {
   "cell_type": "code",
   "execution_count": 21,
   "outputs": [
    {
     "data": {
      "text/plain": "            timestamp  geometry\ntimestamp                      \n2019-05-15      14319     14319\n2019-05-16      28063     28063\n2019-05-17      23151     23151\n2019-05-18      20050     20050\n2019-05-19      24014     24014\n2019-05-20       4796      4796\n2019-05-21          8         8\n2019-05-22      19088     19088\n2019-05-23      18491     18491\n2019-05-24      17442     17442\n2019-05-25      19366     19366\n2019-05-26      22258     22258\n2019-05-27      20312     20312\n2019-05-28      15784     15784\n2019-05-29      13532     13532\n2019-05-30      25323     25323\n2019-05-31      23747     23747\n2019-06-01      21293     21293\n2019-06-02      26472     26472\n2019-06-03      18424     18424\n2019-06-04      19753     19753\n2019-06-05      16260     16260\n2019-06-06       1758      1758\n2019-06-07      14829     14829\n2019-06-08      12218     12218\n2019-06-09      14140     14140\n2019-06-10       6710      6710\n2019-06-11      10659     10659\n2019-06-12       2898      2898\n2019-06-13       1488      1488\n2019-06-14          2         2\n2019-06-15          1         1\n2019-06-16          4         4\n2019-06-17          1         1\n2019-06-27          4         4\n2019-06-28        303       303\n2019-06-29       1419      1419\n2019-06-30       2498      2498\n2019-07-01       5874      5874\n2019-07-02       5057      5057\n2019-07-03       4330      4330\n2019-07-04       4211      4211\n2019-07-05       3016      3016\n2019-07-06       3226      3226\n2019-07-07       6018      6018\n2019-07-08       5040      5040\n2019-07-09       8295      8295\n2019-07-10       6648      6648\n2019-07-11       3319      3319\n2019-07-12       6347      6347\n2019-07-13       7222      7222\n2019-07-14       4927      4927\n2019-07-15       5512      5512\n2019-07-16       3157      3157\n2019-07-17       6944      6944\n2019-07-18       5893      5893",
      "text/html": "<div>\n<style scoped>\n    .dataframe tbody tr th:only-of-type {\n        vertical-align: middle;\n    }\n\n    .dataframe tbody tr th {\n        vertical-align: top;\n    }\n\n    .dataframe thead th {\n        text-align: right;\n    }\n</style>\n<table border=\"1\" class=\"dataframe\">\n  <thead>\n    <tr style=\"text-align: right;\">\n      <th></th>\n      <th>timestamp</th>\n      <th>geometry</th>\n    </tr>\n    <tr>\n      <th>timestamp</th>\n      <th></th>\n      <th></th>\n    </tr>\n  </thead>\n  <tbody>\n    <tr>\n      <th>2019-05-15</th>\n      <td>14319</td>\n      <td>14319</td>\n    </tr>\n    <tr>\n      <th>2019-05-16</th>\n      <td>28063</td>\n      <td>28063</td>\n    </tr>\n    <tr>\n      <th>2019-05-17</th>\n      <td>23151</td>\n      <td>23151</td>\n    </tr>\n    <tr>\n      <th>2019-05-18</th>\n      <td>20050</td>\n      <td>20050</td>\n    </tr>\n    <tr>\n      <th>2019-05-19</th>\n      <td>24014</td>\n      <td>24014</td>\n    </tr>\n    <tr>\n      <th>2019-05-20</th>\n      <td>4796</td>\n      <td>4796</td>\n    </tr>\n    <tr>\n      <th>2019-05-21</th>\n      <td>8</td>\n      <td>8</td>\n    </tr>\n    <tr>\n      <th>2019-05-22</th>\n      <td>19088</td>\n      <td>19088</td>\n    </tr>\n    <tr>\n      <th>2019-05-23</th>\n      <td>18491</td>\n      <td>18491</td>\n    </tr>\n    <tr>\n      <th>2019-05-24</th>\n      <td>17442</td>\n      <td>17442</td>\n    </tr>\n    <tr>\n      <th>2019-05-25</th>\n      <td>19366</td>\n      <td>19366</td>\n    </tr>\n    <tr>\n      <th>2019-05-26</th>\n      <td>22258</td>\n      <td>22258</td>\n    </tr>\n    <tr>\n      <th>2019-05-27</th>\n      <td>20312</td>\n      <td>20312</td>\n    </tr>\n    <tr>\n      <th>2019-05-28</th>\n      <td>15784</td>\n      <td>15784</td>\n    </tr>\n    <tr>\n      <th>2019-05-29</th>\n      <td>13532</td>\n      <td>13532</td>\n    </tr>\n    <tr>\n      <th>2019-05-30</th>\n      <td>25323</td>\n      <td>25323</td>\n    </tr>\n    <tr>\n      <th>2019-05-31</th>\n      <td>23747</td>\n      <td>23747</td>\n    </tr>\n    <tr>\n      <th>2019-06-01</th>\n      <td>21293</td>\n      <td>21293</td>\n    </tr>\n    <tr>\n      <th>2019-06-02</th>\n      <td>26472</td>\n      <td>26472</td>\n    </tr>\n    <tr>\n      <th>2019-06-03</th>\n      <td>18424</td>\n      <td>18424</td>\n    </tr>\n    <tr>\n      <th>2019-06-04</th>\n      <td>19753</td>\n      <td>19753</td>\n    </tr>\n    <tr>\n      <th>2019-06-05</th>\n      <td>16260</td>\n      <td>16260</td>\n    </tr>\n    <tr>\n      <th>2019-06-06</th>\n      <td>1758</td>\n      <td>1758</td>\n    </tr>\n    <tr>\n      <th>2019-06-07</th>\n      <td>14829</td>\n      <td>14829</td>\n    </tr>\n    <tr>\n      <th>2019-06-08</th>\n      <td>12218</td>\n      <td>12218</td>\n    </tr>\n    <tr>\n      <th>2019-06-09</th>\n      <td>14140</td>\n      <td>14140</td>\n    </tr>\n    <tr>\n      <th>2019-06-10</th>\n      <td>6710</td>\n      <td>6710</td>\n    </tr>\n    <tr>\n      <th>2019-06-11</th>\n      <td>10659</td>\n      <td>10659</td>\n    </tr>\n    <tr>\n      <th>2019-06-12</th>\n      <td>2898</td>\n      <td>2898</td>\n    </tr>\n    <tr>\n      <th>2019-06-13</th>\n      <td>1488</td>\n      <td>1488</td>\n    </tr>\n    <tr>\n      <th>2019-06-14</th>\n      <td>2</td>\n      <td>2</td>\n    </tr>\n    <tr>\n      <th>2019-06-15</th>\n      <td>1</td>\n      <td>1</td>\n    </tr>\n    <tr>\n      <th>2019-06-16</th>\n      <td>4</td>\n      <td>4</td>\n    </tr>\n    <tr>\n      <th>2019-06-17</th>\n      <td>1</td>\n      <td>1</td>\n    </tr>\n    <tr>\n      <th>2019-06-27</th>\n      <td>4</td>\n      <td>4</td>\n    </tr>\n    <tr>\n      <th>2019-06-28</th>\n      <td>303</td>\n      <td>303</td>\n    </tr>\n    <tr>\n      <th>2019-06-29</th>\n      <td>1419</td>\n      <td>1419</td>\n    </tr>\n    <tr>\n      <th>2019-06-30</th>\n      <td>2498</td>\n      <td>2498</td>\n    </tr>\n    <tr>\n      <th>2019-07-01</th>\n      <td>5874</td>\n      <td>5874</td>\n    </tr>\n    <tr>\n      <th>2019-07-02</th>\n      <td>5057</td>\n      <td>5057</td>\n    </tr>\n    <tr>\n      <th>2019-07-03</th>\n      <td>4330</td>\n      <td>4330</td>\n    </tr>\n    <tr>\n      <th>2019-07-04</th>\n      <td>4211</td>\n      <td>4211</td>\n    </tr>\n    <tr>\n      <th>2019-07-05</th>\n      <td>3016</td>\n      <td>3016</td>\n    </tr>\n    <tr>\n      <th>2019-07-06</th>\n      <td>3226</td>\n      <td>3226</td>\n    </tr>\n    <tr>\n      <th>2019-07-07</th>\n      <td>6018</td>\n      <td>6018</td>\n    </tr>\n    <tr>\n      <th>2019-07-08</th>\n      <td>5040</td>\n      <td>5040</td>\n    </tr>\n    <tr>\n      <th>2019-07-09</th>\n      <td>8295</td>\n      <td>8295</td>\n    </tr>\n    <tr>\n      <th>2019-07-10</th>\n      <td>6648</td>\n      <td>6648</td>\n    </tr>\n    <tr>\n      <th>2019-07-11</th>\n      <td>3319</td>\n      <td>3319</td>\n    </tr>\n    <tr>\n      <th>2019-07-12</th>\n      <td>6347</td>\n      <td>6347</td>\n    </tr>\n    <tr>\n      <th>2019-07-13</th>\n      <td>7222</td>\n      <td>7222</td>\n    </tr>\n    <tr>\n      <th>2019-07-14</th>\n      <td>4927</td>\n      <td>4927</td>\n    </tr>\n    <tr>\n      <th>2019-07-15</th>\n      <td>5512</td>\n      <td>5512</td>\n    </tr>\n    <tr>\n      <th>2019-07-16</th>\n      <td>3157</td>\n      <td>3157</td>\n    </tr>\n    <tr>\n      <th>2019-07-17</th>\n      <td>6944</td>\n      <td>6944</td>\n    </tr>\n    <tr>\n      <th>2019-07-18</th>\n      <td>5893</td>\n      <td>5893</td>\n    </tr>\n  </tbody>\n</table>\n</div>"
     },
     "execution_count": 21,
     "metadata": {},
     "output_type": "execute_result"
    }
   ],
   "source": [
    "geo_data_no_pollen_length_by_day.count()"
   ],
   "metadata": {
    "collapsed": false,
    "pycharm": {
     "name": "#%%\n"
    }
   }
  },
  {
   "cell_type": "code",
   "execution_count": 22,
   "outputs": [
    {
     "data": {
      "text/plain": "              count           mean           std          min            25%  \\\ntimestamp                                                                      \n2019-05-12  25041.0  134926.607746  65263.254171  1400.526595  102898.915318   \n2019-05-13  39587.0  139372.850302  71155.522112  2891.515001  102391.646639   \n2019-05-14  27520.0  136634.499687  67251.368485  2735.068935  102681.464619   \n2019-05-15   8704.0  130968.430249  56496.220263  4012.128465  102416.489592   \n\n                      50%            75%           max  \ntimestamp                                               \n2019-05-12  116187.533081  146576.339419  1.331922e+06  \n2019-05-13  117904.649301  154005.942735  9.379701e+05  \n2019-05-14  116304.192448  147153.160408  1.240653e+06  \n2019-05-15  113932.285003  140267.216645  8.818719e+05  ",
      "text/html": "<div>\n<style scoped>\n    .dataframe tbody tr th:only-of-type {\n        vertical-align: middle;\n    }\n\n    .dataframe tbody tr th {\n        vertical-align: top;\n    }\n\n    .dataframe thead th {\n        text-align: right;\n    }\n</style>\n<table border=\"1\" class=\"dataframe\">\n  <thead>\n    <tr style=\"text-align: right;\">\n      <th></th>\n      <th>count</th>\n      <th>mean</th>\n      <th>std</th>\n      <th>min</th>\n      <th>25%</th>\n      <th>50%</th>\n      <th>75%</th>\n      <th>max</th>\n    </tr>\n    <tr>\n      <th>timestamp</th>\n      <th></th>\n      <th></th>\n      <th></th>\n      <th></th>\n      <th></th>\n      <th></th>\n      <th></th>\n      <th></th>\n    </tr>\n  </thead>\n  <tbody>\n    <tr>\n      <th>2019-05-12</th>\n      <td>25041.0</td>\n      <td>134926.607746</td>\n      <td>65263.254171</td>\n      <td>1400.526595</td>\n      <td>102898.915318</td>\n      <td>116187.533081</td>\n      <td>146576.339419</td>\n      <td>1.331922e+06</td>\n    </tr>\n    <tr>\n      <th>2019-05-13</th>\n      <td>39587.0</td>\n      <td>139372.850302</td>\n      <td>71155.522112</td>\n      <td>2891.515001</td>\n      <td>102391.646639</td>\n      <td>117904.649301</td>\n      <td>154005.942735</td>\n      <td>9.379701e+05</td>\n    </tr>\n    <tr>\n      <th>2019-05-14</th>\n      <td>27520.0</td>\n      <td>136634.499687</td>\n      <td>67251.368485</td>\n      <td>2735.068935</td>\n      <td>102681.464619</td>\n      <td>116304.192448</td>\n      <td>147153.160408</td>\n      <td>1.240653e+06</td>\n    </tr>\n    <tr>\n      <th>2019-05-15</th>\n      <td>8704.0</td>\n      <td>130968.430249</td>\n      <td>56496.220263</td>\n      <td>4012.128465</td>\n      <td>102416.489592</td>\n      <td>113932.285003</td>\n      <td>140267.216645</td>\n      <td>8.818719e+05</td>\n    </tr>\n  </tbody>\n</table>\n</div>"
     },
     "execution_count": 22,
     "metadata": {},
     "output_type": "execute_result"
    }
   ],
   "source": [
    "geo_data_pollen.length.groupby(geo_data_pollen['timestamp'].dt.date).describe()"
   ],
   "metadata": {
    "collapsed": false,
    "pycharm": {
     "name": "#%%\n"
    }
   }
  },
  {
   "cell_type": "code",
   "execution_count": 23,
   "outputs": [
    {
     "data": {
      "text/plain": "timestamp\n2019-05-15    138316.919233\n2019-05-16    144582.048256\n2019-05-17    147708.708468\n2019-05-18    145720.423614\n2019-05-19    139878.366507\n2019-05-20    138046.260223\n2019-05-21    127361.744909\n2019-05-22    138162.167592\n2019-05-23    144140.114072\n2019-05-24    142933.788216\n2019-05-25    143341.285714\n2019-05-26    139530.563029\n2019-05-27    141151.026073\n2019-05-28    135560.256570\n2019-05-29    140806.598169\n2019-05-30    145014.090847\n2019-05-31    139323.098415\n2019-06-01    153542.423637\n2019-06-02    152719.027892\n2019-06-03    154400.281791\n2019-06-04    146086.357285\n2019-06-05    143837.715756\n2019-06-06    130239.843226\n2019-06-07    146736.336014\n2019-06-08    132065.556037\n2019-06-09    144847.451485\n2019-06-10    141295.458197\n2019-06-11    144822.734367\n2019-06-12    134063.203276\n2019-06-13    135045.228818\n2019-06-14     79206.129745\n2019-06-15    115568.003329\n2019-06-16     72947.883318\n2019-06-17     75248.417559\n2019-06-27     50784.663088\n2019-06-28    112447.386688\n2019-06-29    124737.938272\n2019-06-30    123251.832726\n2019-07-01    141536.625431\n2019-07-02    142862.468373\n2019-07-03    138021.326183\n2019-07-04    135097.276115\n2019-07-05    134036.957837\n2019-07-06    137802.951618\n2019-07-07    147808.852130\n2019-07-08    143539.688380\n2019-07-09    144772.997266\n2019-07-10    139487.545855\n2019-07-11    123644.227436\n2019-07-12    136469.543804\n2019-07-13    148730.819484\n2019-07-14    146818.498566\n2019-07-15    138576.566987\n2019-07-16    128363.079509\n2019-07-17    139240.688928\n2019-07-18    130263.300344\ndtype: float64"
     },
     "execution_count": 23,
     "metadata": {},
     "output_type": "execute_result"
    }
   ],
   "source": [
    "geo_data_no_pollen.length.groupby(geo_data_no_pollen['timestamp'].dt.date).mean()"
   ],
   "metadata": {
    "collapsed": false,
    "pycharm": {
     "name": "#%%\n"
    }
   }
  },
  {
   "cell_type": "code",
   "execution_count": 24,
   "outputs": [
    {
     "data": {
      "text/plain": "56"
     },
     "execution_count": 24,
     "metadata": {},
     "output_type": "execute_result"
    }
   ],
   "source": [
    "len(geo_data_no_pollen_length_by_day)"
   ],
   "metadata": {
    "collapsed": false,
    "pycharm": {
     "name": "#%%\n"
    }
   }
  },
  {
   "cell_type": "code",
   "execution_count": 25,
   "outputs": [
    {
     "data": {
      "text/plain": "                    timestamp  \\\npath_id                         \n252107318 2019-05-12 08:28:53   \n252212481 2019-05-12 08:47:45   \n252215191 2019-05-12 08:47:45   \n252214249 2019-05-12 08:47:45   \n252215566 2019-05-12 08:47:45   \n254549097 2019-05-13 06:20:23   \n254549094 2019-05-13 06:20:23   \n254549793 2019-05-13 06:20:23   \n253333948 2019-05-13 06:41:42   \n253334787 2019-05-13 06:41:42   \n254422554 2019-05-14 06:00:57   \n256357670 2019-05-14 06:27:26   \n256356955 2019-05-14 06:27:26   \n256356942 2019-05-14 06:27:26   \n256356934 2019-05-14 06:27:26   \n262457033 2019-05-15 06:00:57   \n256188063 2019-05-15 06:35:45   \n255571563 2019-05-15 06:47:13   \n255571888 2019-05-15 06:47:13   \n256077790 2019-05-15 06:47:29   \n\n                                                    geometry  \npath_id                                                       \n252107318  LINESTRING (12813.000 10472.000, 13249.000 109...  \n252212481  LINESTRING (11408.000 101240.000, 11339.000 10...  \n252215191  LINESTRING (13850.000 104441.000, 13850.000 10...  \n252214249  LINESTRING (13435.000 105192.000, 13586.000 10...  \n252215566  LINESTRING (126544.000 104227.000, 126424.000 ...  \n254549097  LINESTRING (10535.000 12277.000, 10857.000 127...  \n254549094  LINESTRING (12063.000 12063.000, 12325.000 125...  \n254549793  LINESTRING (11661.000 102082.000, 11580.000 10...  \n253333948  LINESTRING (118150.000 101885.000, 119186.000 ...  \n253334787  LINESTRING (140739.000 102173.000, 140417.000 ...  \n254422554  LINESTRING (29480.000 22633.000, 29480.000 226...  \n256357670  LINESTRING (135560.000 102516.000, 135592.000 ...  \n256356955  LINESTRING (109761.000 103443.000, 110500.000 ...  \n256356942  LINESTRING (68278.000 12179.000, 68519.000 126...  \n256356934  LINESTRING (19273.000 103717.000, 19354.000 10...  \n262457033  LINESTRING (125941.000 102947.000, 125870.000 ...  \n256188063  LINESTRING (124312.000 12289.000, 124493.000 1...  \n255571563  LINESTRING (13510.000 98195.000, 13889.000 972...  \n255571888  LINESTRING (137076.000 103206.000, 137484.000 ...  \n256077790  LINESTRING (140417.000 85408.000, 140771.000 8...  ",
      "text/html": "<div>\n<style scoped>\n    .dataframe tbody tr th:only-of-type {\n        vertical-align: middle;\n    }\n\n    .dataframe tbody tr th {\n        vertical-align: top;\n    }\n\n    .dataframe thead th {\n        text-align: right;\n    }\n</style>\n<table border=\"1\" class=\"dataframe\">\n  <thead>\n    <tr style=\"text-align: right;\">\n      <th></th>\n      <th>timestamp</th>\n      <th>geometry</th>\n    </tr>\n    <tr>\n      <th>path_id</th>\n      <th></th>\n      <th></th>\n    </tr>\n  </thead>\n  <tbody>\n    <tr>\n      <th>252107318</th>\n      <td>2019-05-12 08:28:53</td>\n      <td>LINESTRING (12813.000 10472.000, 13249.000 109...</td>\n    </tr>\n    <tr>\n      <th>252212481</th>\n      <td>2019-05-12 08:47:45</td>\n      <td>LINESTRING (11408.000 101240.000, 11339.000 10...</td>\n    </tr>\n    <tr>\n      <th>252215191</th>\n      <td>2019-05-12 08:47:45</td>\n      <td>LINESTRING (13850.000 104441.000, 13850.000 10...</td>\n    </tr>\n    <tr>\n      <th>252214249</th>\n      <td>2019-05-12 08:47:45</td>\n      <td>LINESTRING (13435.000 105192.000, 13586.000 10...</td>\n    </tr>\n    <tr>\n      <th>252215566</th>\n      <td>2019-05-12 08:47:45</td>\n      <td>LINESTRING (126544.000 104227.000, 126424.000 ...</td>\n    </tr>\n    <tr>\n      <th>254549097</th>\n      <td>2019-05-13 06:20:23</td>\n      <td>LINESTRING (10535.000 12277.000, 10857.000 127...</td>\n    </tr>\n    <tr>\n      <th>254549094</th>\n      <td>2019-05-13 06:20:23</td>\n      <td>LINESTRING (12063.000 12063.000, 12325.000 125...</td>\n    </tr>\n    <tr>\n      <th>254549793</th>\n      <td>2019-05-13 06:20:23</td>\n      <td>LINESTRING (11661.000 102082.000, 11580.000 10...</td>\n    </tr>\n    <tr>\n      <th>253333948</th>\n      <td>2019-05-13 06:41:42</td>\n      <td>LINESTRING (118150.000 101885.000, 119186.000 ...</td>\n    </tr>\n    <tr>\n      <th>253334787</th>\n      <td>2019-05-13 06:41:42</td>\n      <td>LINESTRING (140739.000 102173.000, 140417.000 ...</td>\n    </tr>\n    <tr>\n      <th>254422554</th>\n      <td>2019-05-14 06:00:57</td>\n      <td>LINESTRING (29480.000 22633.000, 29480.000 226...</td>\n    </tr>\n    <tr>\n      <th>256357670</th>\n      <td>2019-05-14 06:27:26</td>\n      <td>LINESTRING (135560.000 102516.000, 135592.000 ...</td>\n    </tr>\n    <tr>\n      <th>256356955</th>\n      <td>2019-05-14 06:27:26</td>\n      <td>LINESTRING (109761.000 103443.000, 110500.000 ...</td>\n    </tr>\n    <tr>\n      <th>256356942</th>\n      <td>2019-05-14 06:27:26</td>\n      <td>LINESTRING (68278.000 12179.000, 68519.000 126...</td>\n    </tr>\n    <tr>\n      <th>256356934</th>\n      <td>2019-05-14 06:27:26</td>\n      <td>LINESTRING (19273.000 103717.000, 19354.000 10...</td>\n    </tr>\n    <tr>\n      <th>262457033</th>\n      <td>2019-05-15 06:00:57</td>\n      <td>LINESTRING (125941.000 102947.000, 125870.000 ...</td>\n    </tr>\n    <tr>\n      <th>256188063</th>\n      <td>2019-05-15 06:35:45</td>\n      <td>LINESTRING (124312.000 12289.000, 124493.000 1...</td>\n    </tr>\n    <tr>\n      <th>255571563</th>\n      <td>2019-05-15 06:47:13</td>\n      <td>LINESTRING (13510.000 98195.000, 13889.000 972...</td>\n    </tr>\n    <tr>\n      <th>255571888</th>\n      <td>2019-05-15 06:47:13</td>\n      <td>LINESTRING (137076.000 103206.000, 137484.000 ...</td>\n    </tr>\n    <tr>\n      <th>256077790</th>\n      <td>2019-05-15 06:47:29</td>\n      <td>LINESTRING (140417.000 85408.000, 140771.000 8...</td>\n    </tr>\n  </tbody>\n</table>\n</div>"
     },
     "execution_count": 25,
     "metadata": {},
     "output_type": "execute_result"
    }
   ],
   "source": [
    "length = geo_data_pollen.groupby(geo_data_pollen['timestamp'].dt.date)#.agg(lambda x: x['timestamp'].dt.date)\n",
    "length.head()"
   ],
   "metadata": {
    "collapsed": false,
    "pycharm": {
     "name": "#%%\n"
    }
   }
  },
  {
   "cell_type": "code",
   "execution_count": 2,
   "outputs": [],
   "source": [
    "data_pollen = pd.read_pickle(pickle_path + 'data_pollen.pkl')\n",
    "data_no_pollen = pd.read_pickle(pickle_path + 'data_no_pollen.pkl')\n",
    "geo_data_pollen = pd.read_pickle(pickle_path + 'geo_data_pollen.pkl')\n",
    "geo_data_no_pollen = pd.read_pickle(pickle_path + 'geo_data_no_pollen.pkl')"
   ],
   "metadata": {
    "collapsed": false,
    "pycharm": {
     "name": "#%%\n"
    }
   }
  },
  {
   "cell_type": "code",
   "execution_count": 13,
   "outputs": [
    {
     "data": {
      "text/plain": "                    timestamp  \\\npath_id                         \n252107318 2019-05-12 08:28:53   \n252212481 2019-05-12 08:47:45   \n252215191 2019-05-12 08:47:45   \n252214249 2019-05-12 08:47:45   \n252215566 2019-05-12 08:47:45   \n\n                                                    geometry  \npath_id                                                       \n252107318  LINESTRING (12813.000 10472.000, 13249.000 109...  \n252212481  LINESTRING (11408.000 101240.000, 11339.000 10...  \n252215191  LINESTRING (13850.000 104441.000, 13850.000 10...  \n252214249  LINESTRING (13435.000 105192.000, 13586.000 10...  \n252215566  LINESTRING (126544.000 104227.000, 126424.000 ...  ",
      "text/html": "<div>\n<style scoped>\n    .dataframe tbody tr th:only-of-type {\n        vertical-align: middle;\n    }\n\n    .dataframe tbody tr th {\n        vertical-align: top;\n    }\n\n    .dataframe thead th {\n        text-align: right;\n    }\n</style>\n<table border=\"1\" class=\"dataframe\">\n  <thead>\n    <tr style=\"text-align: right;\">\n      <th></th>\n      <th>timestamp</th>\n      <th>geometry</th>\n    </tr>\n    <tr>\n      <th>path_id</th>\n      <th></th>\n      <th></th>\n    </tr>\n  </thead>\n  <tbody>\n    <tr>\n      <th>252107318</th>\n      <td>2019-05-12 08:28:53</td>\n      <td>LINESTRING (12813.000 10472.000, 13249.000 109...</td>\n    </tr>\n    <tr>\n      <th>252212481</th>\n      <td>2019-05-12 08:47:45</td>\n      <td>LINESTRING (11408.000 101240.000, 11339.000 10...</td>\n    </tr>\n    <tr>\n      <th>252215191</th>\n      <td>2019-05-12 08:47:45</td>\n      <td>LINESTRING (13850.000 104441.000, 13850.000 10...</td>\n    </tr>\n    <tr>\n      <th>252214249</th>\n      <td>2019-05-12 08:47:45</td>\n      <td>LINESTRING (13435.000 105192.000, 13586.000 10...</td>\n    </tr>\n    <tr>\n      <th>252215566</th>\n      <td>2019-05-12 08:47:45</td>\n      <td>LINESTRING (126544.000 104227.000, 126424.000 ...</td>\n    </tr>\n  </tbody>\n</table>\n</div>"
     },
     "execution_count": 13,
     "metadata": {},
     "output_type": "execute_result"
    }
   ],
   "source": [
    "sampel_linestrings = geo_data_pollen.iloc[0:5]\n",
    "\n",
    "sampel_linestrings.head()"
   ],
   "metadata": {
    "collapsed": false,
    "pycharm": {
     "name": "#%%\n"
    }
   }
  },
  {
   "cell_type": "code",
   "execution_count": 3,
   "outputs": [
    {
     "ename": "NameError",
     "evalue": "name 'create_json' is not defined",
     "output_type": "error",
     "traceback": [
      "\u001B[0;31m---------------------------------------------------------------------------\u001B[0m",
      "\u001B[0;31mNameError\u001B[0m                                 Traceback (most recent call last)",
      "\u001B[0;32m<ipython-input-3-7e68d1106d6f>\u001B[0m in \u001B[0;36m<module>\u001B[0;34m\u001B[0m\n\u001B[0;32m----> 1\u001B[0;31m \u001B[0mtraclus_input_json\u001B[0m \u001B[0;34m=\u001B[0m \u001B[0mcreate_json\u001B[0m\u001B[0;34m(\u001B[0m\u001B[0msampel_linestrings\u001B[0m\u001B[0;34m)\u001B[0m\u001B[0;34m\u001B[0m\u001B[0;34m\u001B[0m\u001B[0m\n\u001B[0m        \u001B[0;36mglobal\u001B[0m \u001B[0;36mtraclus_input_json\u001B[0m \u001B[0;34m= \u001B[0;36mundefined\u001B[0m\u001B[0m\u001B[0;34m\n        \u001B[0m\u001B[0;36mglobal\u001B[0m \u001B[0;36mcreate_json\u001B[0m \u001B[0;34m= \u001B[0;36mundefined\u001B[0m\u001B[0m\u001B[0;34m\n        \u001B[0m\u001B[0;36mglobal\u001B[0m \u001B[0;36msampel_linestrings\u001B[0m \u001B[0;34m= \u001B[0;36mundefined\u001B[0m\u001B[0m\n\u001B[1;32m      2\u001B[0m \u001B[0;34m\u001B[0m\u001B[0m\n\u001B[1;32m      3\u001B[0m \u001B[0mwrite_to_file\u001B[0m\u001B[0;34m(\u001B[0m\u001B[0mtraclus_input_json\u001B[0m\u001B[0;34m)\u001B[0m\u001B[0;34m\u001B[0m\u001B[0;34m\u001B[0m\u001B[0m\n\u001B[1;32m      4\u001B[0m \u001B[0;34m\u001B[0m\u001B[0m\n",
      "\u001B[0;31mNameError\u001B[0m: name 'create_json' is not defined"
     ]
    }
   ],
   "source": [
    "traclus_input_json = tjp.create_json(sampel_linestrings)\n",
    "\n",
    "tjp.write_to_file(traclus_input_json)"
   ],
   "metadata": {
    "collapsed": false,
    "pycharm": {
     "name": "#%%\n"
    }
   }
  },
  {
   "cell_type": "code",
   "execution_count": 84,
   "outputs": [],
   "source": [],
   "metadata": {
    "collapsed": false,
    "pycharm": {
     "name": "#%%\n"
    }
   }
  }
 ],
 "metadata": {
  "kernelspec": {
   "display_name": "Python 3",
   "language": "python",
   "name": "python3"
  },
  "language_info": {
   "codemirror_mode": {
    "name": "ipython",
    "version": 2
   },
   "file_extension": ".py",
   "mimetype": "text/x-python",
   "name": "python",
   "nbconvert_exporter": "python",
   "pygments_lexer": "ipython2",
   "version": "2.7.6"
  }
 },
 "nbformat": 4,
 "nbformat_minor": 0
}